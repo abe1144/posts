{
 "cells": [
  {
   "cell_type": "markdown",
   "metadata": {},
   "source": [
    "## PCA on Pizza Dataset\n",
    "\n",
    "The following data is the pizza-dataset from <a href=\"https://data.world/sdhilip/pizza-datasets\">data world</a>. It consists of the following attributes:\n",
    "\n",
    "- brand -- Pizza brand (class label)\n",
    "- id -- Sample analysed\n",
    "- mois -- Amount of water per 100 grams in the sample\n",
    "- prot -- Amount of protein per 100 grams in the sample\n",
    "- fat -- Amount of fat per 100 grams in the sample\n",
    "- ash -- Amount of ash per 100 grams in the sample\n",
    "- sodium -- Amount of sodium per 100 grams in the sample\n",
    "- carb -- Amount of carbohydrates per 100 grams in the sample\n",
    "- cal -- Amount of calories per 100 grams in the sample\n",
    "\n",
    "Here is a preview of the data:"
   ]
  },
  {
   "cell_type": "code",
   "execution_count": 1,
   "metadata": {},
   "outputs": [],
   "source": [
    "import pandas as pd"
   ]
  },
  {
   "cell_type": "code",
   "execution_count": 2,
   "metadata": {},
   "outputs": [
    {
     "data": {
      "text/html": [
       "<div>\n",
       "<style scoped>\n",
       "    .dataframe tbody tr th:only-of-type {\n",
       "        vertical-align: middle;\n",
       "    }\n",
       "\n",
       "    .dataframe tbody tr th {\n",
       "        vertical-align: top;\n",
       "    }\n",
       "\n",
       "    .dataframe thead th {\n",
       "        text-align: right;\n",
       "    }\n",
       "</style>\n",
       "<table border=\"1\" class=\"dataframe\">\n",
       "  <thead>\n",
       "    <tr style=\"text-align: right;\">\n",
       "      <th></th>\n",
       "      <th>brand</th>\n",
       "      <th>id</th>\n",
       "      <th>mois</th>\n",
       "      <th>prot</th>\n",
       "      <th>fat</th>\n",
       "      <th>ash</th>\n",
       "      <th>sodium</th>\n",
       "      <th>carb</th>\n",
       "      <th>cal</th>\n",
       "    </tr>\n",
       "  </thead>\n",
       "  <tbody>\n",
       "    <tr>\n",
       "      <th>0</th>\n",
       "      <td>A</td>\n",
       "      <td>14069</td>\n",
       "      <td>27.82</td>\n",
       "      <td>21.43</td>\n",
       "      <td>44.87</td>\n",
       "      <td>5.11</td>\n",
       "      <td>1.77</td>\n",
       "      <td>0.77</td>\n",
       "      <td>4.93</td>\n",
       "    </tr>\n",
       "    <tr>\n",
       "      <th>1</th>\n",
       "      <td>A</td>\n",
       "      <td>14053</td>\n",
       "      <td>28.49</td>\n",
       "      <td>21.26</td>\n",
       "      <td>43.89</td>\n",
       "      <td>5.34</td>\n",
       "      <td>1.79</td>\n",
       "      <td>1.02</td>\n",
       "      <td>4.84</td>\n",
       "    </tr>\n",
       "    <tr>\n",
       "      <th>2</th>\n",
       "      <td>A</td>\n",
       "      <td>14025</td>\n",
       "      <td>28.35</td>\n",
       "      <td>19.99</td>\n",
       "      <td>45.78</td>\n",
       "      <td>5.08</td>\n",
       "      <td>1.63</td>\n",
       "      <td>0.80</td>\n",
       "      <td>4.95</td>\n",
       "    </tr>\n",
       "    <tr>\n",
       "      <th>3</th>\n",
       "      <td>A</td>\n",
       "      <td>14016</td>\n",
       "      <td>30.55</td>\n",
       "      <td>20.15</td>\n",
       "      <td>43.13</td>\n",
       "      <td>4.79</td>\n",
       "      <td>1.61</td>\n",
       "      <td>1.38</td>\n",
       "      <td>4.74</td>\n",
       "    </tr>\n",
       "    <tr>\n",
       "      <th>4</th>\n",
       "      <td>A</td>\n",
       "      <td>14005</td>\n",
       "      <td>30.49</td>\n",
       "      <td>21.28</td>\n",
       "      <td>41.65</td>\n",
       "      <td>4.82</td>\n",
       "      <td>1.64</td>\n",
       "      <td>1.76</td>\n",
       "      <td>4.67</td>\n",
       "    </tr>\n",
       "  </tbody>\n",
       "</table>\n",
       "</div>"
      ],
      "text/plain": [
       "  brand     id   mois   prot    fat   ash  sodium  carb   cal\n",
       "0     A  14069  27.82  21.43  44.87  5.11    1.77  0.77  4.93\n",
       "1     A  14053  28.49  21.26  43.89  5.34    1.79  1.02  4.84\n",
       "2     A  14025  28.35  19.99  45.78  5.08    1.63  0.80  4.95\n",
       "3     A  14016  30.55  20.15  43.13  4.79    1.61  1.38  4.74\n",
       "4     A  14005  30.49  21.28  41.65  4.82    1.64  1.76  4.67"
      ]
     },
     "execution_count": 2,
     "metadata": {},
     "output_type": "execute_result"
    }
   ],
   "source": [
    "pizza = pd.read_csv('Pizza.csv')\n",
    "pizza.head()"
   ]
  },
  {
   "cell_type": "markdown",
   "metadata": {},
   "source": [
    "## Data Exploration\n",
    "\n",
    "Average attribute across different brands to see if there is a different trend. We see that brand B and I uses more water in their dough compared to the other brands, while brand G has the highest sodium levels per 100g."
   ]
  },
  {
   "cell_type": "code",
   "execution_count": 3,
   "metadata": {},
   "outputs": [
    {
     "data": {
      "text/html": [
       "<div>\n",
       "<style scoped>\n",
       "    .dataframe tbody tr th:only-of-type {\n",
       "        vertical-align: middle;\n",
       "    }\n",
       "\n",
       "    .dataframe tbody tr th {\n",
       "        vertical-align: top;\n",
       "    }\n",
       "\n",
       "    .dataframe thead th {\n",
       "        text-align: right;\n",
       "    }\n",
       "</style>\n",
       "<table border=\"1\" class=\"dataframe\">\n",
       "  <thead>\n",
       "    <tr style=\"text-align: right;\">\n",
       "      <th></th>\n",
       "      <th>id</th>\n",
       "      <th>mois</th>\n",
       "      <th>prot</th>\n",
       "      <th>fat</th>\n",
       "      <th>ash</th>\n",
       "      <th>sodium</th>\n",
       "      <th>carb</th>\n",
       "      <th>cal</th>\n",
       "    </tr>\n",
       "    <tr>\n",
       "      <th>brand</th>\n",
       "      <th></th>\n",
       "      <th></th>\n",
       "      <th></th>\n",
       "      <th></th>\n",
       "      <th></th>\n",
       "      <th></th>\n",
       "      <th></th>\n",
       "      <th></th>\n",
       "    </tr>\n",
       "  </thead>\n",
       "  <tbody>\n",
       "    <tr>\n",
       "      <th>A</th>\n",
       "      <td>20632.000000</td>\n",
       "      <td>29.966207</td>\n",
       "      <td>20.107241</td>\n",
       "      <td>43.446897</td>\n",
       "      <td>5.014483</td>\n",
       "      <td>1.656207</td>\n",
       "      <td>1.486897</td>\n",
       "      <td>4.773793</td>\n",
       "    </tr>\n",
       "    <tr>\n",
       "      <th>B</th>\n",
       "      <td>19881.161290</td>\n",
       "      <td>51.307742</td>\n",
       "      <td>13.638710</td>\n",
       "      <td>27.620323</td>\n",
       "      <td>3.463548</td>\n",
       "      <td>0.984839</td>\n",
       "      <td>3.969677</td>\n",
       "      <td>3.190968</td>\n",
       "    </tr>\n",
       "    <tr>\n",
       "      <th>C</th>\n",
       "      <td>20001.703704</td>\n",
       "      <td>49.477407</td>\n",
       "      <td>26.025556</td>\n",
       "      <td>19.171111</td>\n",
       "      <td>3.283333</td>\n",
       "      <td>0.464815</td>\n",
       "      <td>2.046296</td>\n",
       "      <td>2.848889</td>\n",
       "    </tr>\n",
       "    <tr>\n",
       "      <th>D</th>\n",
       "      <td>19696.531250</td>\n",
       "      <td>47.671250</td>\n",
       "      <td>22.231250</td>\n",
       "      <td>21.645312</td>\n",
       "      <td>4.315938</td>\n",
       "      <td>0.715000</td>\n",
       "      <td>4.136250</td>\n",
       "      <td>3.003438</td>\n",
       "    </tr>\n",
       "    <tr>\n",
       "      <th>E</th>\n",
       "      <td>20158.321429</td>\n",
       "      <td>36.083214</td>\n",
       "      <td>7.732857</td>\n",
       "      <td>15.115714</td>\n",
       "      <td>1.476071</td>\n",
       "      <td>0.449286</td>\n",
       "      <td>39.592143</td>\n",
       "      <td>3.253929</td>\n",
       "    </tr>\n",
       "    <tr>\n",
       "      <th>F</th>\n",
       "      <td>21085.533333</td>\n",
       "      <td>29.404333</td>\n",
       "      <td>7.898000</td>\n",
       "      <td>16.424667</td>\n",
       "      <td>1.473667</td>\n",
       "      <td>0.462000</td>\n",
       "      <td>44.787333</td>\n",
       "      <td>3.596000</td>\n",
       "    </tr>\n",
       "    <tr>\n",
       "      <th>G</th>\n",
       "      <td>19934.551724</td>\n",
       "      <td>28.241034</td>\n",
       "      <td>8.236552</td>\n",
       "      <td>15.643793</td>\n",
       "      <td>1.446897</td>\n",
       "      <td>0.443793</td>\n",
       "      <td>46.431724</td>\n",
       "      <td>3.595172</td>\n",
       "    </tr>\n",
       "    <tr>\n",
       "      <th>H</th>\n",
       "      <td>20131.575758</td>\n",
       "      <td>35.825152</td>\n",
       "      <td>7.894545</td>\n",
       "      <td>14.291515</td>\n",
       "      <td>1.406061</td>\n",
       "      <td>0.416061</td>\n",
       "      <td>40.583939</td>\n",
       "      <td>3.224545</td>\n",
       "    </tr>\n",
       "    <tr>\n",
       "      <th>I</th>\n",
       "      <td>22001.689655</td>\n",
       "      <td>54.592759</td>\n",
       "      <td>10.383103</td>\n",
       "      <td>13.060690</td>\n",
       "      <td>2.098276</td>\n",
       "      <td>0.487241</td>\n",
       "      <td>19.865517</td>\n",
       "      <td>2.384138</td>\n",
       "    </tr>\n",
       "    <tr>\n",
       "      <th>J</th>\n",
       "      <td>24682.531250</td>\n",
       "      <td>46.035000</td>\n",
       "      <td>10.566250</td>\n",
       "      <td>16.324062</td>\n",
       "      <td>2.364688</td>\n",
       "      <td>0.614375</td>\n",
       "      <td>24.735938</td>\n",
       "      <td>2.878437</td>\n",
       "    </tr>\n",
       "  </tbody>\n",
       "</table>\n",
       "</div>"
      ],
      "text/plain": [
       "                 id       mois       prot        fat       ash    sodium  \\\n",
       "brand                                                                      \n",
       "A      20632.000000  29.966207  20.107241  43.446897  5.014483  1.656207   \n",
       "B      19881.161290  51.307742  13.638710  27.620323  3.463548  0.984839   \n",
       "C      20001.703704  49.477407  26.025556  19.171111  3.283333  0.464815   \n",
       "D      19696.531250  47.671250  22.231250  21.645312  4.315938  0.715000   \n",
       "E      20158.321429  36.083214   7.732857  15.115714  1.476071  0.449286   \n",
       "F      21085.533333  29.404333   7.898000  16.424667  1.473667  0.462000   \n",
       "G      19934.551724  28.241034   8.236552  15.643793  1.446897  0.443793   \n",
       "H      20131.575758  35.825152   7.894545  14.291515  1.406061  0.416061   \n",
       "I      22001.689655  54.592759  10.383103  13.060690  2.098276  0.487241   \n",
       "J      24682.531250  46.035000  10.566250  16.324062  2.364688  0.614375   \n",
       "\n",
       "            carb       cal  \n",
       "brand                       \n",
       "A       1.486897  4.773793  \n",
       "B       3.969677  3.190968  \n",
       "C       2.046296  2.848889  \n",
       "D       4.136250  3.003438  \n",
       "E      39.592143  3.253929  \n",
       "F      44.787333  3.596000  \n",
       "G      46.431724  3.595172  \n",
       "H      40.583939  3.224545  \n",
       "I      19.865517  2.384138  \n",
       "J      24.735938  2.878437  "
      ]
     },
     "execution_count": 3,
     "metadata": {},
     "output_type": "execute_result"
    }
   ],
   "source": [
    "pizza.groupby(['brand']).mean()"
   ]
  },
  {
   "cell_type": "markdown",
   "metadata": {},
   "source": [
    "## Dataset Description\n",
    "\n",
    "The data consists of 300 different pizzas across 10 different brands with various different ingredient levels in their pizzas."
   ]
  },
  {
   "cell_type": "code",
   "execution_count": 4,
   "metadata": {},
   "outputs": [
    {
     "data": {
      "text/html": [
       "<div>\n",
       "<style scoped>\n",
       "    .dataframe tbody tr th:only-of-type {\n",
       "        vertical-align: middle;\n",
       "    }\n",
       "\n",
       "    .dataframe tbody tr th {\n",
       "        vertical-align: top;\n",
       "    }\n",
       "\n",
       "    .dataframe thead th {\n",
       "        text-align: right;\n",
       "    }\n",
       "</style>\n",
       "<table border=\"1\" class=\"dataframe\">\n",
       "  <thead>\n",
       "    <tr style=\"text-align: right;\">\n",
       "      <th></th>\n",
       "      <th>id</th>\n",
       "      <th>mois</th>\n",
       "      <th>prot</th>\n",
       "      <th>fat</th>\n",
       "      <th>ash</th>\n",
       "      <th>sodium</th>\n",
       "      <th>carb</th>\n",
       "      <th>cal</th>\n",
       "    </tr>\n",
       "  </thead>\n",
       "  <tbody>\n",
       "    <tr>\n",
       "      <th>count</th>\n",
       "      <td>300.000000</td>\n",
       "      <td>300.000000</td>\n",
       "      <td>300.000000</td>\n",
       "      <td>300.000000</td>\n",
       "      <td>300.000000</td>\n",
       "      <td>300.000000</td>\n",
       "      <td>300.000000</td>\n",
       "      <td>300.000000</td>\n",
       "    </tr>\n",
       "    <tr>\n",
       "      <th>mean</th>\n",
       "      <td>20841.040000</td>\n",
       "      <td>40.903067</td>\n",
       "      <td>13.373567</td>\n",
       "      <td>20.229533</td>\n",
       "      <td>2.633233</td>\n",
       "      <td>0.669400</td>\n",
       "      <td>22.864767</td>\n",
       "      <td>3.271000</td>\n",
       "    </tr>\n",
       "    <tr>\n",
       "      <th>std</th>\n",
       "      <td>6962.917222</td>\n",
       "      <td>9.552987</td>\n",
       "      <td>6.434392</td>\n",
       "      <td>8.975658</td>\n",
       "      <td>1.269724</td>\n",
       "      <td>0.370358</td>\n",
       "      <td>18.029722</td>\n",
       "      <td>0.620034</td>\n",
       "    </tr>\n",
       "    <tr>\n",
       "      <th>min</th>\n",
       "      <td>14003.000000</td>\n",
       "      <td>25.000000</td>\n",
       "      <td>6.980000</td>\n",
       "      <td>4.380000</td>\n",
       "      <td>1.170000</td>\n",
       "      <td>0.250000</td>\n",
       "      <td>0.510000</td>\n",
       "      <td>2.180000</td>\n",
       "    </tr>\n",
       "    <tr>\n",
       "      <th>25%</th>\n",
       "      <td>14093.750000</td>\n",
       "      <td>30.902500</td>\n",
       "      <td>8.060000</td>\n",
       "      <td>14.770000</td>\n",
       "      <td>1.450000</td>\n",
       "      <td>0.450000</td>\n",
       "      <td>3.467500</td>\n",
       "      <td>2.910000</td>\n",
       "    </tr>\n",
       "    <tr>\n",
       "      <th>50%</th>\n",
       "      <td>24020.500000</td>\n",
       "      <td>43.300000</td>\n",
       "      <td>10.440000</td>\n",
       "      <td>17.135000</td>\n",
       "      <td>2.225000</td>\n",
       "      <td>0.490000</td>\n",
       "      <td>23.245000</td>\n",
       "      <td>3.215000</td>\n",
       "    </tr>\n",
       "    <tr>\n",
       "      <th>75%</th>\n",
       "      <td>24110.250000</td>\n",
       "      <td>49.115000</td>\n",
       "      <td>20.022500</td>\n",
       "      <td>21.435000</td>\n",
       "      <td>3.592500</td>\n",
       "      <td>0.702500</td>\n",
       "      <td>41.337500</td>\n",
       "      <td>3.520000</td>\n",
       "    </tr>\n",
       "    <tr>\n",
       "      <th>max</th>\n",
       "      <td>34045.000000</td>\n",
       "      <td>57.220000</td>\n",
       "      <td>28.480000</td>\n",
       "      <td>47.200000</td>\n",
       "      <td>5.430000</td>\n",
       "      <td>1.790000</td>\n",
       "      <td>48.640000</td>\n",
       "      <td>5.080000</td>\n",
       "    </tr>\n",
       "  </tbody>\n",
       "</table>\n",
       "</div>"
      ],
      "text/plain": [
       "                 id        mois        prot         fat         ash  \\\n",
       "count    300.000000  300.000000  300.000000  300.000000  300.000000   \n",
       "mean   20841.040000   40.903067   13.373567   20.229533    2.633233   \n",
       "std     6962.917222    9.552987    6.434392    8.975658    1.269724   \n",
       "min    14003.000000   25.000000    6.980000    4.380000    1.170000   \n",
       "25%    14093.750000   30.902500    8.060000   14.770000    1.450000   \n",
       "50%    24020.500000   43.300000   10.440000   17.135000    2.225000   \n",
       "75%    24110.250000   49.115000   20.022500   21.435000    3.592500   \n",
       "max    34045.000000   57.220000   28.480000   47.200000    5.430000   \n",
       "\n",
       "           sodium        carb         cal  \n",
       "count  300.000000  300.000000  300.000000  \n",
       "mean     0.669400   22.864767    3.271000  \n",
       "std      0.370358   18.029722    0.620034  \n",
       "min      0.250000    0.510000    2.180000  \n",
       "25%      0.450000    3.467500    2.910000  \n",
       "50%      0.490000   23.245000    3.215000  \n",
       "75%      0.702500   41.337500    3.520000  \n",
       "max      1.790000   48.640000    5.080000  "
      ]
     },
     "execution_count": 4,
     "metadata": {},
     "output_type": "execute_result"
    }
   ],
   "source": [
    "pizza.describe()"
   ]
  },
  {
   "cell_type": "markdown",
   "metadata": {},
   "source": [
    "## Pizza Count by Brand\n",
    "\n",
    "The pizzas in the data seems pretty evenly distributed across the different brands"
   ]
  },
  {
   "cell_type": "code",
   "execution_count": 5,
   "metadata": {},
   "outputs": [
    {
     "data": {
      "text/plain": [
       "H    33\n",
       "J    32\n",
       "D    32\n",
       "B    31\n",
       "F    30\n",
       "G    29\n",
       "I    29\n",
       "A    29\n",
       "E    28\n",
       "C    27\n",
       "Name: brand, dtype: int64"
      ]
     },
     "execution_count": 5,
     "metadata": {},
     "output_type": "execute_result"
    }
   ],
   "source": [
    "pizza.brand.value_counts()"
   ]
  },
  {
   "cell_type": "markdown",
   "metadata": {},
   "source": [
    "## Standardizing the Data for PCA\n",
    "\n",
    "In PCA, it is important to standardize the attributes. Recall that PCA seeks to components according to maximal variance. If we did not standardize across the columns, an attribute with a high variance will get more weight compared to the rest, rendering the analysis meaningless. By normalizing the data such that all columns have equal variance, all attributes will start with the same weight and PCA will produce relevant axis."
   ]
  },
  {
   "cell_type": "code",
   "execution_count": 6,
   "metadata": {},
   "outputs": [],
   "source": [
    "from sklearn.preprocessing import StandardScaler\n",
    "\n",
    "scaler = StandardScaler()\n",
    "\n",
    "X_norm = scaler.fit_transform(pizza[['mois', 'prot', 'fat', 'ash', 'sodium','carb', 'cal']])\n",
    "X_norm = pd.DataFrame(X_norm)\n",
    "X_norm.columns = ['mois', 'prot', 'fat', 'ash', 'sodium','carb', 'cal']"
   ]
  },
  {
   "cell_type": "markdown",
   "metadata": {},
   "source": [
    "After normalization, we have mean 0 and variance 1 for all columns."
   ]
  },
  {
   "cell_type": "code",
   "execution_count": 7,
   "metadata": {},
   "outputs": [
    {
     "data": {
      "text/plain": [
       "mois     -2.849572e-17\n",
       "prot      3.482400e-16\n",
       "fat      -4.296563e-16\n",
       "ash      -9.505359e-16\n",
       "sodium   -2.634929e-16\n",
       "carb     -2.701543e-17\n",
       "cal       2.505403e-16\n",
       "dtype: float64"
      ]
     },
     "execution_count": 7,
     "metadata": {},
     "output_type": "execute_result"
    }
   ],
   "source": [
    "X_norm.mean()"
   ]
  },
  {
   "cell_type": "code",
   "execution_count": 8,
   "metadata": {},
   "outputs": [
    {
     "data": {
      "text/plain": [
       "mois      1.003344\n",
       "prot      1.003344\n",
       "fat       1.003344\n",
       "ash       1.003344\n",
       "sodium    1.003344\n",
       "carb      1.003344\n",
       "cal       1.003344\n",
       "dtype: float64"
      ]
     },
     "execution_count": 8,
     "metadata": {},
     "output_type": "execute_result"
    }
   ],
   "source": [
    "X_norm.var()"
   ]
  },
  {
   "cell_type": "markdown",
   "metadata": {},
   "source": [
    "## PCA\n",
    "\n",
    "We first fit a PCA with multiple components and see how much variability each component is able to capture."
   ]
  },
  {
   "cell_type": "code",
   "execution_count": 46,
   "metadata": {},
   "outputs": [],
   "source": [
    "from sklearn.decomposition import PCA"
   ]
  },
  {
   "cell_type": "code",
   "execution_count": 47,
   "metadata": {},
   "outputs": [
    {
     "data": {
      "text/plain": [
       "PCA(copy=True, iterated_power='auto', n_components=5, random_state=None,\n",
       "    svd_solver='auto', tol=0.0, whiten=False)"
      ]
     },
     "execution_count": 47,
     "metadata": {},
     "output_type": "execute_result"
    }
   ],
   "source": [
    "pca = PCA(n_components=5)\n",
    "pca.fit(X_norm)"
   ]
  },
  {
   "cell_type": "markdown",
   "metadata": {},
   "source": [
    "### Scree Plot of Components\n",
    "\n",
    "The scree plots shows how much variability each component captures in the data. We can utilize the tool to select the number of components required depending on the application that we are interested. Since we would like to visualize the data points in the principal component axis, we choose two by default. Otherwise we can choose the number of components using the \"elbow method\" similar to how we choose the number of clusters in \"K-Means\"."
   ]
  },
  {
   "cell_type": "code",
   "execution_count": 49,
   "metadata": {},
   "outputs": [
    {
     "data": {
      "image/png": "[encoded data removed]",
      "text/plain": [
       "<Figure size 432x288 with 1 Axes>"
      ]
     },
     "metadata": {
      "needs_background": "light"
     },
     "output_type": "display_data"
    }
   ],
   "source": [
    "import matplotlib.pyplot as plt\n",
    "import numpy as np\n",
    "\n",
    "total_comp = np.arange(pca.n_components_) + 1\n",
    "plt.plot(total_comp, pca.explained_variance_ratio_, 'o-', linewidth=2)\n",
    "plt.title('Scree Plot')\n",
    "plt.xlabel('Principal Component')\n",
    "plt.ylabel('Variance Explained')"
   ]
  },
  {
   "cell_type": "code",
   "execution_count": 12,
   "metadata": {},
   "outputs": [
    {
     "data": {
      "text/plain": [
       "PCA(copy=True, iterated_power='auto', n_components=2, random_state=None,\n",
       "    svd_solver='auto', tol=0.0, whiten=False)"
      ]
     },
     "execution_count": 12,
     "metadata": {},
     "output_type": "execute_result"
    }
   ],
   "source": [
    "pca = PCA(n_components=2)\n",
    "pca.fit(X_norm)"
   ]
  },
  {
   "cell_type": "markdown",
   "metadata": {},
   "source": [
    "## Component Loadings\n",
    "\n",
    "We can extract the component loadings to get an understanding on how they load on the original variables of the data. The loadings represent the covariance between the components and each individual attributes in our original dataset. Since we standardized the data, these loadings have a correlation interpretation. Recall that the attributes were the following:\n",
    "\n",
    "- mois -- Amount of water per 100 grams in the sample\n",
    "- prot -- Amount of protein per 100 grams in the sample\n",
    "- fat -- Amount of fat per 100 grams in the sample\n",
    "- ash -- Amount of ash per 100 grams in the sample\n",
    "- sodium -- Amount of sodium per 100 grams in the sample\n",
    "- carb -- Amount of carbohydrates per 100 grams in the sample\n",
    "- cal -- Amount of calories per 100 grams in the sample"
   ]
  },
  {
   "cell_type": "code",
   "execution_count": 13,
   "metadata": {},
   "outputs": [
    {
     "data": {
      "text/plain": [
       "array([[ 0.06470937,  0.3787609 ,  0.44666592,  0.47188953,  0.43570289,\n",
       "        -0.42491371,  0.2444873 ],\n",
       "       [-0.62827587, -0.26970665,  0.23437908, -0.11099042,  0.20166165,\n",
       "         0.32031208,  0.56745756]])"
      ]
     },
     "execution_count": 13,
     "metadata": {},
     "output_type": "execute_result"
    }
   ],
   "source": [
    "pca.components_"
   ]
  },
  {
   "cell_type": "markdown",
   "metadata": {},
   "source": [
    "Looking at the first component, we see that it has a positive correlation of 0.472 with the attribute ash (amount of ash/100g) and a negative correlation of -0.425 with carb (amount of carbohydrates/100g). Therefore, if a data point (pizza) scores high on the first component,  it indicates that the pizza has more ash and less carbs (the opposite holds, if a pizza has a low score on the first component)."
   ]
  },
  {
   "cell_type": "markdown",
   "metadata": {},
   "source": [
    "## Transforming Data Points\n",
    "\n",
    "With the components, we can perform vector multiplication to our data matrix X to get \"Principal Component Scores\". We thus reduce each datapoint from 7 dimensions down to 2. We can think of these scores as the projected data points onto the principal component space, based on the components that we defined above."
   ]
  },
  {
   "cell_type": "code",
   "execution_count": 14,
   "metadata": {
    "scrolled": true
   },
   "outputs": [
    {
     "data": {
      "text/plain": [
       "array([[5.01034284, 2.67921532],\n",
       "       [5.02375538, 2.52929455],\n",
       "       [4.8054393 , 2.67370033],\n",
       "       [4.4695434 , 2.28502923],\n",
       "       [4.47189256, 2.1591524 ],\n",
       "       [4.50479978, 2.16797296],\n",
       "       [4.31535781, 2.05704328],\n",
       "       [4.75785167, 2.35308587],\n",
       "       [4.85461934, 2.68121904],\n",
       "       [4.91640631, 2.65851314]])"
      ]
     },
     "execution_count": 14,
     "metadata": {},
     "output_type": "execute_result"
    }
   ],
   "source": [
    "pca.fit_transform(X_norm)[:10]"
   ]
  },
  {
   "cell_type": "code",
   "execution_count": 15,
   "metadata": {},
   "outputs": [
    {
     "data": {
      "text/html": [
       "<div>\n",
       "<style scoped>\n",
       "    .dataframe tbody tr th:only-of-type {\n",
       "        vertical-align: middle;\n",
       "    }\n",
       "\n",
       "    .dataframe tbody tr th {\n",
       "        vertical-align: top;\n",
       "    }\n",
       "\n",
       "    .dataframe thead th {\n",
       "        text-align: right;\n",
       "    }\n",
       "</style>\n",
       "<table border=\"1\" class=\"dataframe\">\n",
       "  <thead>\n",
       "    <tr style=\"text-align: right;\">\n",
       "      <th></th>\n",
       "      <th>PC1</th>\n",
       "      <th>PC2</th>\n",
       "    </tr>\n",
       "  </thead>\n",
       "  <tbody>\n",
       "    <tr>\n",
       "      <th>0</th>\n",
       "      <td>5.010343</td>\n",
       "      <td>2.679215</td>\n",
       "    </tr>\n",
       "    <tr>\n",
       "      <th>1</th>\n",
       "      <td>5.023755</td>\n",
       "      <td>2.529295</td>\n",
       "    </tr>\n",
       "    <tr>\n",
       "      <th>2</th>\n",
       "      <td>4.805439</td>\n",
       "      <td>2.673700</td>\n",
       "    </tr>\n",
       "    <tr>\n",
       "      <th>3</th>\n",
       "      <td>4.469543</td>\n",
       "      <td>2.285029</td>\n",
       "    </tr>\n",
       "    <tr>\n",
       "      <th>4</th>\n",
       "      <td>4.471893</td>\n",
       "      <td>2.159152</td>\n",
       "    </tr>\n",
       "  </tbody>\n",
       "</table>\n",
       "</div>"
      ],
      "text/plain": [
       "        PC1       PC2\n",
       "0  5.010343  2.679215\n",
       "1  5.023755  2.529295\n",
       "2  4.805439  2.673700\n",
       "3  4.469543  2.285029\n",
       "4  4.471893  2.159152"
      ]
     },
     "execution_count": 15,
     "metadata": {},
     "output_type": "execute_result"
    }
   ],
   "source": [
    "PC_data_arr = pca.fit_transform(X_norm)\n",
    "pc_df = pd.DataFrame(PC_data_arr)\n",
    "pc_df.columns = ['PC1', 'PC2']\n",
    "pc_df.head()"
   ]
  },
  {
   "cell_type": "markdown",
   "metadata": {},
   "source": [
    "We can also add back the brand feature to this dataset, to better understand graphically where each pizza ranks on the PC space"
   ]
  },
  {
   "cell_type": "code",
   "execution_count": 16,
   "metadata": {},
   "outputs": [
    {
     "data": {
      "text/html": [
       "<div>\n",
       "<style scoped>\n",
       "    .dataframe tbody tr th:only-of-type {\n",
       "        vertical-align: middle;\n",
       "    }\n",
       "\n",
       "    .dataframe tbody tr th {\n",
       "        vertical-align: top;\n",
       "    }\n",
       "\n",
       "    .dataframe thead th {\n",
       "        text-align: right;\n",
       "    }\n",
       "</style>\n",
       "<table border=\"1\" class=\"dataframe\">\n",
       "  <thead>\n",
       "    <tr style=\"text-align: right;\">\n",
       "      <th></th>\n",
       "      <th>PC1</th>\n",
       "      <th>PC2</th>\n",
       "      <th>brand</th>\n",
       "    </tr>\n",
       "  </thead>\n",
       "  <tbody>\n",
       "    <tr>\n",
       "      <th>0</th>\n",
       "      <td>5.010343</td>\n",
       "      <td>2.679215</td>\n",
       "      <td>A</td>\n",
       "    </tr>\n",
       "    <tr>\n",
       "      <th>1</th>\n",
       "      <td>5.023755</td>\n",
       "      <td>2.529295</td>\n",
       "      <td>A</td>\n",
       "    </tr>\n",
       "    <tr>\n",
       "      <th>2</th>\n",
       "      <td>4.805439</td>\n",
       "      <td>2.673700</td>\n",
       "      <td>A</td>\n",
       "    </tr>\n",
       "    <tr>\n",
       "      <th>3</th>\n",
       "      <td>4.469543</td>\n",
       "      <td>2.285029</td>\n",
       "      <td>A</td>\n",
       "    </tr>\n",
       "    <tr>\n",
       "      <th>4</th>\n",
       "      <td>4.471893</td>\n",
       "      <td>2.159152</td>\n",
       "      <td>A</td>\n",
       "    </tr>\n",
       "  </tbody>\n",
       "</table>\n",
       "</div>"
      ],
      "text/plain": [
       "        PC1       PC2 brand\n",
       "0  5.010343  2.679215     A\n",
       "1  5.023755  2.529295     A\n",
       "2  4.805439  2.673700     A\n",
       "3  4.469543  2.285029     A\n",
       "4  4.471893  2.159152     A"
      ]
     },
     "execution_count": 16,
     "metadata": {},
     "output_type": "execute_result"
    }
   ],
   "source": [
    "brand = pizza.brand\n",
    "pc_df['brand'] = brand\n",
    "pc_df.head()"
   ]
  },
  {
   "cell_type": "markdown",
   "metadata": {},
   "source": [
    "## Visualizing our Data in the Principal Component Space\n",
    "\n",
    "with the dataset above, we can visualize where each pizza ranks according to the principal components obtained."
   ]
  },
  {
   "cell_type": "code",
   "execution_count": 51,
   "metadata": {},
   "outputs": [
    {
     "data": {
      "text/plain": [
       "<matplotlib.legend.Legend at 0x24b0fe9a518>"
      ]
     },
     "execution_count": 51,
     "metadata": {},
     "output_type": "execute_result"
    },
    {
     "data": {
      "image/png": "[encoded data removed]",
      "text/plain": [
       "<Figure size 960x800 with 1 Axes>"
      ]
     },
     "metadata": {
      "needs_background": "light"
     },
     "output_type": "display_data"
    }
   ],
   "source": [
    "plt.figure(figsize=(12, 10), dpi=80)\n",
    "groups = pc_df.groupby(\"brand\")\n",
    "for name, group in groups:\n",
    "    plt.scatter(group[\"PC1\"], group[\"PC2\"], marker=\"o\", label=name, alpha=0.6, s=100)\n",
    "plt.title('PCA Plot')\n",
    "plt.xlabel('PC1')\n",
    "plt.ylabel('PC2')\n",
    "plt.legend()"
   ]
  }
 ],
 "metadata": {
  "kernelspec": {
   "display_name": "Python 3",
   "language": "python",
   "name": "python3"
  },
  "language_info": {
   "codemirror_mode": {
    "name": "ipython",
    "version": 3
   },
   "file_extension": ".py",
   "mimetype": "text/x-python",
   "name": "python",
   "nbconvert_exporter": "python",
   "pygments_lexer": "ipython3",
   "version": "3.6.7"
  }
 },
 "nbformat": 4,
 "nbformat_minor": 2
}
